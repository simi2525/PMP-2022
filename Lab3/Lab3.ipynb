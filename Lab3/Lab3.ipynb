{
 "cells": [
  {
   "cell_type": "markdown",
   "metadata": {},
   "source": [
    "**Problema Laborator 3:**\n",
    "Date:\n",
    "$$\n",
    "\\begin{align*}\n",
    "& P(C=1)=0.0005\\\\\n",
    "& P(I=1|C=0)=0.01 & P(I=1|C=1)=0.03\\\\\n",
    "& P(A=1|C=0,I=0)=0.0001 & P(A=1|C=1,I=0)=0.02\\\\\n",
    "& P(A=1|C=0,I=1)=0.95 & P(A=1|C=1,I=1)=0.98\n",
    "\\end{align*}\n",
    "$$\n",
    "\n",
    "**Raspuns teoretic (punctul 4 - Bonus):**\n",
    "\n",
    "2. $\n",
    "P(C=1|A=1)=\\dfrac{P(A=1|C=1)P(C=1)}{P(A=1|C=1)P(C=1)+P(A=1|C=0)P(C=0)}\n",
    "$\n",
    "\n",
    "Avem:\n",
    "\\begin{align*}\n",
    "P(A=1|C=1)  & =P(A=1|C=1,I=0)P(I=0|C=1)+P(A=1|C=1,I=1)P(I=1|C=1)\\\\\n",
    "& =0.02\\cdot0.97+0.98\\cdot0.03=0.0488;\\\\\n",
    "P(A=1|C=0)  & =P(A=1|C=0,I=0)P(I=0|C=0)+P(A=1|C=0,I=1)P(I=1|C=0)\\\\\n",
    "& =0.0001\\cdot0.99+0.95\\cdot0.01=0.009599.\n",
    "\\end{align*}\n",
    "Deci\n",
    "$$\n",
    "\\begin{align*}\n",
    "P(C=1|A=1)&=\\frac{0.0488\\cdot0.0005}{0.0488\\cdot0.0005+0.009599\\cdot0.9995}\\\\\n",
    "&=0.0025367516\\cong 0.25\\%.\n",
    "\\end{align*}\n",
    "$$\n",
    "\n",
    "2.\n",
    "$\n",
    "P(I=1|A=0) =\\dfrac{P(A=0|I=1)P(I=1)}{P(A=0|I=1)P(I=1)+P(A=0|I=0)P(I=0)}\n",
    "$\n",
    "\n",
    "Avem:\n",
    "\\begin{align*}\n",
    "P(A=0|I=1)P(I=1)  & =P(A=0|I=1,C=0)P(C=0|I=1)P(I=1)+P(A=0|I=1,C=1)P(C=1|I=1)P(I=1)\\\\\n",
    "& =P(A=0|I=1,C=0)P(I=1|C=0)P(C=0)+P(A=0|I=1,C=1)P(I=1|C=1)P(C=1)\\\\\n",
    "& =0.05\\cdot0.01\\cdot0.9995+0.02\\cdot0.03\\cdot0.0005=0.00050005;\\\\\n",
    "P(A=0|I=0)P(I=0) & =P(A=0|I=0,C=0)P(C=0|I=0)P(I=0)+P(A=0|I=0,C=1)P(C=1|I=0)P(I=0)\\\\\n",
    "& =P(A=0|I=0,C=0)P(I=0|C=0)P(C=0)+P(A=0|I=0,C=1)P(I=0|C=1)P(C=1)\\\\\n",
    "& =0.9999\\cdot0.99\\cdot0.9995+0.98\\cdot0.97\\cdot0.0005=0.98988.\n",
    "\\end{align*}\n",
    "Deci\n",
    "$\n",
    "P(I=1|A=0) =\\dfrac{0.00050005}{0.00050005+0.98988}=0.00050491\\cong 0.05\\%.\n",
    "$\n",
    "\n",
    "Cerinta poate fi inteleasa si ca $P(I=1,A=0).$ In cazul acesta, rezultatul e numaratorul fractiei de mai sus, adica 0.00050005."
   ]
  },
  {
   "cell_type": "code",
   "execution_count": 5,
   "metadata": {},
   "outputs": [],
   "source": [
    "import pandas as pd\n",
    "import pymc3 as pm"
   ]
  },
  {
   "cell_type": "markdown",
   "metadata": {},
   "source": [
    "**Punctul 1.**"
   ]
  },
  {
   "cell_type": "code",
   "execution_count": 43,
   "metadata": {},
   "outputs": [
    {
     "name": "stderr",
     "output_type": "stream",
     "text": [
      "c:\\Users\\adria\\AppData\\Local\\Programs\\Python\\Python310\\lib\\site-packages\\deprecat\\classic.py:215: FutureWarning: In v4.0, pm.sample will return an `arviz.InferenceData` object instead of a `MultiTrace` by default. You can pass return_inferencedata=True or return_inferencedata=False to be safe and silence this warning.\n",
      "  return wrapped_(*args_, **kwargs_)\n",
      "Multiprocess sampling (4 chains in 4 jobs)\n",
      "BinaryGibbsMetropolis: [C, I]\n"
     ]
    },
    {
     "data": {
      "text/html": [
       "\n",
       "<style>\n",
       "    /* Turns off some styling */\n",
       "    progress {\n",
       "        /* gets rid of default border in Firefox and Opera. */\n",
       "        border: none;\n",
       "        /* Needs to be in here for Safari polyfill so background images work as expected. */\n",
       "        background-size: auto;\n",
       "    }\n",
       "    progress:not([value]), progress:not([value])::-webkit-progress-bar {\n",
       "        background: repeating-linear-gradient(45deg, #7e7e7e, #7e7e7e 10px, #5c5c5c 10px, #5c5c5c 20px);\n",
       "    }\n",
       "    .progress-bar-interrupted, .progress-bar-interrupted::-webkit-progress-bar {\n",
       "        background: #F44336;\n",
       "    }\n",
       "</style>\n"
      ],
      "text/plain": [
       "<IPython.core.display.HTML object>"
      ]
     },
     "metadata": {},
     "output_type": "display_data"
    },
    {
     "data": {
      "text/html": [
       "\n",
       "    <div>\n",
       "      <progress value='204000' class='' max='204000' style='width:300px; height:20px; vertical-align: middle;'></progress>\n",
       "      100.00% [204000/204000 00:59&lt;00:00 Sampling 4 chains, 0 divergences]\n",
       "    </div>\n",
       "    "
      ],
      "text/plain": [
       "<IPython.core.display.HTML object>"
      ]
     },
     "metadata": {},
     "output_type": "display_data"
    },
    {
     "name": "stderr",
     "output_type": "stream",
     "text": [
      "Sampling 4 chains for 1_000 tune and 50_000 draw iterations (4_000 + 200_000 draws total) took 67 seconds.\n",
      "c:\\Users\\adria\\AppData\\Local\\Programs\\Python\\Python310\\lib\\site-packages\\deprecat\\classic.py:215: FutureWarning: In v4.0, pm.sample will return an `arviz.InferenceData` object instead of a `MultiTrace` by default. You can pass return_inferencedata=True or return_inferencedata=False to be safe and silence this warning.\n",
      "  return wrapped_(*args_, **kwargs_)\n",
      "Multiprocess sampling (4 chains in 4 jobs)\n",
      "BinaryGibbsMetropolis: [C, I]\n"
     ]
    },
    {
     "data": {
      "text/html": [
       "\n",
       "<style>\n",
       "    /* Turns off some styling */\n",
       "    progress {\n",
       "        /* gets rid of default border in Firefox and Opera. */\n",
       "        border: none;\n",
       "        /* Needs to be in here for Safari polyfill so background images work as expected. */\n",
       "        background-size: auto;\n",
       "    }\n",
       "    progress:not([value]), progress:not([value])::-webkit-progress-bar {\n",
       "        background: repeating-linear-gradient(45deg, #7e7e7e, #7e7e7e 10px, #5c5c5c 10px, #5c5c5c 20px);\n",
       "    }\n",
       "    .progress-bar-interrupted, .progress-bar-interrupted::-webkit-progress-bar {\n",
       "        background: #F44336;\n",
       "    }\n",
       "</style>\n"
      ],
      "text/plain": [
       "<IPython.core.display.HTML object>"
      ]
     },
     "metadata": {},
     "output_type": "display_data"
    },
    {
     "data": {
      "text/html": [
       "\n",
       "    <div>\n",
       "      <progress value='204000' class='' max='204000' style='width:300px; height:20px; vertical-align: middle;'></progress>\n",
       "      100.00% [204000/204000 00:58&lt;00:00 Sampling 4 chains, 0 divergences]\n",
       "    </div>\n",
       "    "
      ],
      "text/plain": [
       "<IPython.core.display.HTML object>"
      ]
     },
     "metadata": {},
     "output_type": "display_data"
    },
    {
     "name": "stderr",
     "output_type": "stream",
     "text": [
      "Sampling 4 chains for 1_000 tune and 50_000 draw iterations (4_000 + 200_000 draws total) took 66 seconds.\n"
     ]
    }
   ],
   "source": [
    "sample = []\n",
    "for i in range(2):\n",
    "    model = pm.Model()\n",
    "\n",
    "    with model:\n",
    "        cutremur = pm.Bernoulli('C', p=0.0005)\n",
    "        incendiu_p = pm.math.switch(cutremur, 0.03, 0.01)\n",
    "        incendiu = pm.Bernoulli('I', p=incendiu_p)\n",
    "        alarma_p = pm.math.switch(incendiu, pm.math.switch(cutremur, 0.98, 0.95), pm.math.switch(cutremur, 0.02, 0.0001))\n",
    "        alarma = pm.Bernoulli('A', p=alarma_p, observed=i)          # i = 0 sau 1, coresp. pct. 3, resp. 2\n",
    "        trace = pm.sample(50000)                                    # nr. iteratii mai mare --> precizie mai mare\n",
    "    sample.append(trace)"
   ]
  },
  {
   "cell_type": "markdown",
   "metadata": {},
   "source": [
    "**Punctele 2 si 3**"
   ]
  },
  {
   "cell_type": "code",
   "execution_count": 46,
   "metadata": {},
   "outputs": [],
   "source": [
    "dictionary = {\n",
    "              'cutremur': sample[1]['C'].tolist(),  #pt. pct. 2\n",
    "              'incendiu': sample[0]['I'].tolist()   #pt. pct. 3\n",
    "              }\n",
    "df = pd.DataFrame(dictionary)"
   ]
  },
  {
   "cell_type": "code",
   "execution_count": 47,
   "metadata": {},
   "outputs": [
    {
     "name": "stdout",
     "output_type": "stream",
     "text": [
      "P(C=1|A=1)= 0.002595\n",
      "P(I=1|A=0)= 0.0005\n"
     ]
    }
   ],
   "source": [
    "p_cutremur = df[(df['cutremur'] == 1)].shape[0] / df.shape[0]\n",
    "p_incendiu = df[(df['incendiu'] == 1)].shape[0] / df.shape[0]\n",
    "print('P(C=1|A=1)=',p_cutremur)\n",
    "print('P(I=1|A=0)=',p_incendiu)"
   ]
  }
 ],
 "metadata": {
  "kernelspec": {
   "display_name": "Python 3.10.7 64-bit",
   "language": "python",
   "name": "python3"
  },
  "language_info": {
   "codemirror_mode": {
    "name": "ipython",
    "version": 3
   },
   "file_extension": ".py",
   "mimetype": "text/x-python",
   "name": "python",
   "nbconvert_exporter": "python",
   "pygments_lexer": "ipython3",
   "version": "3.10.7"
  },
  "vscode": {
   "interpreter": {
    "hash": "8fbfba7cb8bdca769b43cbb833a817b4ca395e01b4b8dedb589dfb9294fd4e87"
   }
  }
 },
 "nbformat": 4,
 "nbformat_minor": 1
}
