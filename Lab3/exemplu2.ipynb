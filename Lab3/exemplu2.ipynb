{
 "cells": [
  {
   "cell_type": "markdown",
   "metadata": {},
   "source": [
    "Un anumit produs se poate afla la vanzare (20%) cu reducere sau cu pret intreg. Cumparatorul poate avea nevoie urgenta (5%) de produsul respectiv sau nu. Cumparatorul ia decizia sa cumpere produsul dupa urmatoarele reguli:\n",
    "1. produsul este la reducere si are nevoie urgent de el -> cumperi 100%\n",
    "2. produsul este la reducere dar nu are nevoie urgent de el -> cumperi 50%\n",
    "3. fara reducere si are nevoie urgent -> cumperi 80% \n",
    "4. fara reducere si nu are nevoie urgent -> cumperi 20%\n",
    "\n",
    "Afisati probabilitatea ca cumparatorul sa fi avut nevoie urgenta de produs daca stim ca acesta a cumparat produsul.\n",
    "\n",
    "**Raspuns teoretic:**\n",
    "\n",
    "$$\n",
    "P(U=1|C=1)=\\frac{P(C=1|U=1)P(U=1)}{P(C=1|U=1)P(U=1)+P(C=1|U=0)P(U=0)}.\n",
    "$$\n",
    "Avem:\n",
    "\\begin{align*}\n",
    "P(C=1|U=1)  & =P(C=1|U=1,R=1)P(R=1)+P(C=1|U=1,R=0)P(R=0)\\\\\n",
    "& =1\\cdot0.2+0.8\\cdot0.8=0.84;\\\\\n",
    "P(C=1|U=0)  & =P(C=1|U=0,R=1)P(R=1)+P(C=1|U=0,R=0)P(R=0)\\\\\n",
    "& =0.5\\cdot0.2+0.2\\cdot0.8=0.26.\n",
    "\\end{align*}\n",
    "Deci\n",
    "$$\n",
    "P(U=1|C=1)=\\frac{0.84\\cdot0.05}{0.84\\cdot0.05+0.26\\cdot0.95}=0.14533.\n",
    "$$"
   ]
  },
  {
   "cell_type": "code",
   "execution_count": null,
   "metadata": {},
   "outputs": [
    {
     "ename": "",
     "evalue": "",
     "output_type": "error",
     "traceback": [
      "\u001b[1;31mRunning cells with 'Python 3.10.6 ('pmp2022')' requires ipykernel package.\n",
      "\u001b[1;31mRun the following command to install 'ipykernel' into the Python environment. \n",
      "\u001b[1;31mCommand: 'conda install -n pmp2022 ipykernel --update-deps --force-reinstall'"
     ]
    }
   ],
   "source": [
    "import matplotlib.pyplot as plt\n",
    "import numpy as np\n",
    "import pandas as pd\n",
    "import pymc3 as pm\n",
    "import arviz as az"
   ]
  },
  {
   "cell_type": "code",
   "execution_count": null,
   "metadata": {},
   "outputs": [
    {
     "ename": "",
     "evalue": "",
     "output_type": "error",
     "traceback": [
      "\u001b[1;31mRunning cells with 'Python 3.10.6 ('pmp2022')' requires ipykernel package.\n",
      "\u001b[1;31mRun the following command to install 'ipykernel' into the Python environment. \n",
      "\u001b[1;31mCommand: 'conda install -n pmp2022 ipykernel --update-deps --force-reinstall'"
     ]
    }
   ],
   "source": [
    "model = pm.Model()\n",
    "\n",
    "with model:\n",
    "    urgent = pm.Bernoulli('U', 0.05)\n",
    "    reducere = pm.Bernoulli('R', 0.2)\n",
    "    cumpara_p = pm.Deterministic('C_p', pm.math.switch(reducere, pm.math.switch(urgent, 1, 0.5), pm.math.switch(urgent, 0.8, 0.2)))\n",
    "    cumpara = pm.Bernoulli('C', p=cumpara_p, observed=1)\n",
    "    trace = pm.sample(20000)"
   ]
  },
  {
   "cell_type": "code",
   "execution_count": null,
   "metadata": {},
   "outputs": [
    {
     "ename": "",
     "evalue": "",
     "output_type": "error",
     "traceback": [
      "\u001b[1;31mRunning cells with 'Python 3.10.6 ('pmp2022')' requires ipykernel package.\n",
      "\u001b[1;31mRun the following command to install 'ipykernel' into the Python environment. \n",
      "\u001b[1;31mCommand: 'conda install -n pmp2022 ipykernel --update-deps --force-reinstall'"
     ]
    }
   ],
   "source": [
    "dictionary = {\n",
    "              'urgent': trace['U'].tolist(),\n",
    "              'reducere': trace['R'].tolist()\n",
    "              }\n",
    "df = pd.DataFrame(dictionary)"
   ]
  },
  {
   "cell_type": "code",
   "execution_count": null,
   "metadata": {},
   "outputs": [
    {
     "ename": "",
     "evalue": "",
     "output_type": "error",
     "traceback": [
      "\u001b[1;31mRunning cells with 'Python 3.10.6 ('pmp2022')' requires ipykernel package.\n",
      "\u001b[1;31mRun the following command to install 'ipykernel' into the Python environment. \n",
      "\u001b[1;31mCommand: 'conda install -n pmp2022 ipykernel --update-deps --force-reinstall'"
     ]
    }
   ],
   "source": [
    "p_urgent = df[(df['urgent'] == 1)].shape[0] / df.shape[0]\n",
    "print(p_urgent)"
   ]
  },
  {
   "cell_type": "code",
   "execution_count": null,
   "metadata": {},
   "outputs": [
    {
     "ename": "",
     "evalue": "",
     "output_type": "error",
     "traceback": [
      "\u001b[1;31mRunning cells with 'Python 3.10.6 ('pmp2022')' requires ipykernel package.\n",
      "\u001b[1;31mRun the following command to install 'ipykernel' into the Python environment. \n",
      "\u001b[1;31mCommand: 'conda install -n pmp2022 ipykernel --update-deps --force-reinstall'"
     ]
    }
   ],
   "source": [
    "# az.plot_posterior(trace)\n",
    "# plt.show()"
   ]
  }
 ],
 "metadata": {
  "kernelspec": {
   "display_name": "Python 3.10.6 ('pmp2022')",
   "language": "python",
   "name": "python3"
  },
  "language_info": {
   "codemirror_mode": {
    "name": "ipython",
    "version": 3
   },
   "file_extension": ".py",
   "mimetype": "text/x-python",
   "name": "python",
   "nbconvert_exporter": "python",
   "pygments_lexer": "ipython3",
   "version": "3.10.6"
  },
  "vscode": {
   "interpreter": {
    "hash": "c8d656eed6d3a89fbcf7a9a46edf34581b260b563a3857706d3d12e47dde1a49"
   }
  }
 },
 "nbformat": 4,
 "nbformat_minor": 1
}
